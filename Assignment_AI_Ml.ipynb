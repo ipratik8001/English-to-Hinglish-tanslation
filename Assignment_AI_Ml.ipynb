{
  "nbformat": 4,
  "nbformat_minor": 0,
  "metadata": {
    "colab": {
      "provenance": []
    },
    "kernelspec": {
      "name": "python3",
      "display_name": "Python 3"
    },
    "language_info": {
      "name": "python"
    }
  },
  "cells": [
    {
      "cell_type": "code",
      "source": [
        "# Installing PyPI packages\n",
        "!pip install nltk\n",
        "!pip install googletrans==4.0.0-rc1"
      ],
      "metadata": {
        "colab": {
          "base_uri": "https://localhost:8080/"
        },
        "id": "AimGIBdPOfp9",
        "outputId": "e4d7576e-4324-412f-dd0c-c692d1b6e2e4"
      },
      "execution_count": 5,
      "outputs": [
        {
          "output_type": "stream",
          "name": "stdout",
          "text": [
            "Requirement already satisfied: nltk in /usr/local/lib/python3.10/dist-packages (3.8.1)\n",
            "Requirement already satisfied: click in /usr/local/lib/python3.10/dist-packages (from nltk) (8.1.7)\n",
            "Requirement already satisfied: joblib in /usr/local/lib/python3.10/dist-packages (from nltk) (1.3.2)\n",
            "Requirement already satisfied: regex>=2021.8.3 in /usr/local/lib/python3.10/dist-packages (from nltk) (2023.6.3)\n",
            "Requirement already satisfied: tqdm in /usr/local/lib/python3.10/dist-packages (from nltk) (4.66.1)\n",
            "Requirement already satisfied: googletrans==4.0.0-rc1 in /usr/local/lib/python3.10/dist-packages (4.0.0rc1)\n",
            "Requirement already satisfied: httpx==0.13.3 in /usr/local/lib/python3.10/dist-packages (from googletrans==4.0.0-rc1) (0.13.3)\n",
            "Requirement already satisfied: certifi in /usr/local/lib/python3.10/dist-packages (from httpx==0.13.3->googletrans==4.0.0-rc1) (2023.7.22)\n",
            "Requirement already satisfied: hstspreload in /usr/local/lib/python3.10/dist-packages (from httpx==0.13.3->googletrans==4.0.0-rc1) (2023.1.1)\n",
            "Requirement already satisfied: sniffio in /usr/local/lib/python3.10/dist-packages (from httpx==0.13.3->googletrans==4.0.0-rc1) (1.3.0)\n",
            "Requirement already satisfied: chardet==3.* in /usr/local/lib/python3.10/dist-packages (from httpx==0.13.3->googletrans==4.0.0-rc1) (3.0.4)\n",
            "Requirement already satisfied: idna==2.* in /usr/local/lib/python3.10/dist-packages (from httpx==0.13.3->googletrans==4.0.0-rc1) (2.10)\n",
            "Requirement already satisfied: rfc3986<2,>=1.3 in /usr/local/lib/python3.10/dist-packages (from httpx==0.13.3->googletrans==4.0.0-rc1) (1.5.0)\n",
            "Requirement already satisfied: httpcore==0.9.* in /usr/local/lib/python3.10/dist-packages (from httpx==0.13.3->googletrans==4.0.0-rc1) (0.9.1)\n",
            "Requirement already satisfied: h11<0.10,>=0.8 in /usr/local/lib/python3.10/dist-packages (from httpcore==0.9.*->httpx==0.13.3->googletrans==4.0.0-rc1) (0.9.0)\n",
            "Requirement already satisfied: h2==3.* in /usr/local/lib/python3.10/dist-packages (from httpcore==0.9.*->httpx==0.13.3->googletrans==4.0.0-rc1) (3.2.0)\n",
            "Requirement already satisfied: hyperframe<6,>=5.2.0 in /usr/local/lib/python3.10/dist-packages (from h2==3.*->httpcore==0.9.*->httpx==0.13.3->googletrans==4.0.0-rc1) (5.2.0)\n",
            "Requirement already satisfied: hpack<4,>=3.0 in /usr/local/lib/python3.10/dist-packages (from h2==3.*->httpcore==0.9.*->httpx==0.13.3->googletrans==4.0.0-rc1) (3.0.0)\n"
          ]
        }
      ]
    },
    {
      "cell_type": "code",
      "source": [
        "# Importing necessary libraries\n",
        "import re\n",
        "import nltk\n",
        "from nltk import pos_tag, word_tokenize\n",
        "from googletrans import Translator"
      ],
      "metadata": {
        "id": "SCQnDizeOl-c"
      },
      "execution_count": 6,
      "outputs": []
    },
    {
      "cell_type": "code",
      "source": [
        "nltk.download('punkt')\n",
        "nltk.download('averaged_perceptron_tagger')\n",
        "\n",
        "# Extract nouns from a sentence\n",
        "def extract_nouns(sentence):\n",
        "  # Tokenize the text into words.\n",
        "  tokens = nltk.word_tokenize(sentence)\n",
        "\n",
        "  # Tag the words with their part-of-speech tags.\n",
        "  tags = nltk.pos_tag(tokens)\n",
        "\n",
        "  # Extract the nouns from the tagged text.\n",
        "  nouns = [token for token, tag in tags if tag.startswith('NN')]\n",
        "  return nouns"
      ],
      "metadata": {
        "colab": {
          "base_uri": "https://localhost:8080/"
        },
        "id": "5JI5kiLzOvso",
        "outputId": "39a21ca0-3d94-4b0d-b319-7761bbb30137"
      },
      "execution_count": 7,
      "outputs": [
        {
          "output_type": "stream",
          "name": "stderr",
          "text": [
            "[nltk_data] Downloading package punkt to /root/nltk_data...\n",
            "[nltk_data]   Package punkt is already up-to-date!\n",
            "[nltk_data] Downloading package averaged_perceptron_tagger to\n",
            "[nltk_data]     /root/nltk_data...\n",
            "[nltk_data]   Package averaged_perceptron_tagger is already up-to-\n",
            "[nltk_data]       date!\n"
          ]
        }
      ]
    },
    {
      "cell_type": "code",
      "source": [
        "# Translate sentence from English to Hindi\n",
        "def english_to_hindi(text):\n",
        "    translator = Translator()\n",
        "    translation = translator.translate(text, src='en', dest='hi')\n",
        "    return translation.text"
      ],
      "metadata": {
        "id": "R8apQi2FO5vs"
      },
      "execution_count": 8,
      "outputs": []
    },
    {
      "cell_type": "code",
      "execution_count": 9,
      "metadata": {
        "id": "RkIC0eGzIunj"
      },
      "outputs": [],
      "source": [
        "# Function to replace nouns in Hindi sentence with their English counterparts\n",
        "def replace_nouns_with_english(hindi_sentence, english_sentence):\n",
        "    # Extract nouns in the English sentence\n",
        "    english_nouns = extract_nouns(english_sentence)\n",
        "\n",
        "    # Translate the English nouns to Hindi\n",
        "    translated_nouns = [english_to_hindi(noun) for noun in english_nouns]\n",
        "\n",
        "    # Create dictionary that maps translated nouns to their English counterparts\n",
        "    noun_mapping = {translated: original for original, translated in zip(english_nouns, translated_nouns)}\n",
        "\n",
        "    # Replace nouns in the Hindi sentence with their English counterparts\n",
        "    for hindi_noun, english_noun in noun_mapping.items():\n",
        "        hindi_sentence = hindi_sentence.replace(hindi_noun, english_noun)\n",
        "\n",
        "    return hindi_sentence"
      ]
    },
    {
      "cell_type": "code",
      "source": [
        "# Testing Code\n",
        "sentence = input(\"Enter a sentence: \")\n",
        "result_sentence = replace_nouns_with_english((english_to_hindi(sentence)), sentence)\n",
        "print(\"Hinglish Sentence:\", result_sentence)"
      ],
      "metadata": {
        "colab": {
          "base_uri": "https://localhost:8080/"
        },
        "id": "vZSxEFPWPD73",
        "outputId": "67d91d7d-7161-4308-fe89-b2bd1d3e067c"
      },
      "execution_count": 14,
      "outputs": [
        {
          "output_type": "stream",
          "name": "stdout",
          "text": [
            "Enter a sentence: I had about a 30 minute demo just using this new headset.\n",
            "Hinglish Sentence: मेरे पास इस नए headset का उपयोग करके लगभग 30 minute का demo था।\n"
          ]
        }
      ]
    },
    {
      "cell_type": "code",
      "source": [
        "# Testing Code on 1st sentence\n",
        "sentence = input(\"Enter a sentence: \")\n",
        "result_sentence = replace_nouns_with_english((english_to_hindi(sentence)), sentence)\n",
        "print(\"Hinglish Sentence:\", result_sentence)"
      ],
      "metadata": {
        "colab": {
          "base_uri": "https://localhost:8080/"
        },
        "id": "_tMI1gIZNWJ5",
        "outputId": "2d08832a-ce5b-405c-ac7e-81cf732bdbd9"
      },
      "execution_count": 13,
      "outputs": [
        {
          "output_type": "stream",
          "name": "stdout",
          "text": [
            "Enter a sentence:  Definitely share your feedback in the comment section.\n",
            "Hinglish Sentence: निश्चित रूप से comment section में अपनी feedback साझा करें।\n"
          ]
        }
      ]
    },
    {
      "cell_type": "code",
      "source": [
        "# Testing Code on 2nd sentence\n",
        "sentence = input(\"Enter a sentence: \")\n",
        "result_sentence = replace_nouns_with_english((english_to_hindi(sentence)), sentence)\n",
        "print(\"Hinglish Sentence:\", result_sentence)"
      ],
      "metadata": {
        "colab": {
          "base_uri": "https://localhost:8080/"
        },
        "id": "mxHolXfoZiD4",
        "outputId": "69a93ff8-a5c5-4f51-a98e-a2ee8b7f2181"
      },
      "execution_count": 15,
      "outputs": [
        {
          "output_type": "stream",
          "name": "stdout",
          "text": [
            "Enter a sentence: So even if it's a big video, I will clearly mention all the products.\n",
            "Hinglish Sentence: तो भले ही यह एक बड़ा video है, मैं स्पष्ट रूप से सभी products का उल्लेख करूंगा।\n"
          ]
        }
      ]
    },
    {
      "cell_type": "code",
      "source": [
        "# Testing Code on 3rd sentence\n",
        "sentence = input(\"Enter a sentence: \")\n",
        "result_sentence = replace_nouns_with_english((english_to_hindi(sentence)), sentence)\n",
        "print(\"Hinglish Sentence:\", result_sentence)"
      ],
      "metadata": {
        "colab": {
          "base_uri": "https://localhost:8080/"
        },
        "id": "eCBTiIrGaA7U",
        "outputId": "59785a01-411f-4d06-a1c0-e213c84858e4"
      },
      "execution_count": 23,
      "outputs": [
        {
          "output_type": "stream",
          "name": "stdout",
          "text": [
            "Enter a sentence: I was waiting for my bag.\n",
            "Hinglish Sentence: मैं अपने बैग का इंतजार कर रहा था।\n"
          ]
        }
      ]
    }
  ]
}